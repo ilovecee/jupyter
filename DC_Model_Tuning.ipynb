{
 "cells": [
  {
   "cell_type": "code",
   "execution_count": 1,
   "metadata": {},
   "outputs": [],
   "source": [
    "# Metrics for classification\n",
    "# Confusion Table (binary classifier, True or False)\n",
    "# Scores: Acccuracy, Precision, Recall, F1 score\n",
    "# Accuracy = (tp + tn)/(tp + tn + fp + fn)\n",
    "# Precision = tp / (tp + fp)\n",
    "# Recall = tp / (tp + fn)\n",
    "# F1 score = (2 * Precision * Recall) / (Precision + Recall)"
   ]
  },
  {
   "cell_type": "code",
   "execution_count": 2,
   "metadata": {},
   "outputs": [],
   "source": [
    "# k_NN classification metric (binary in this case)\n",
    "# import\n",
    "\n",
    "import numpy as np\n",
    "import pandas as pd\n",
    "import matplotlib.pyplot as plt\n",
    "from jupyterthemes import jtplot\n",
    "from sklearn.neighbors import KNeighborsClassifier\n",
    "from sklearn.model_selection import train_test_split\n",
    "from sklearn.metrics import classification_report\n",
    "from sklearn.metrics import confusion_matrix\n",
    "jtplot.style(theme = 'oceans16')"
   ]
  },
  {
   "cell_type": "code",
   "execution_count": 3,
   "metadata": {},
   "outputs": [],
   "source": [
    "# Load PIMA Indians dataset from github\n",
    "\n",
    "url = 'https://gist.githubusercontent.com/chaityacshah/899a95deaf8b1930003ae93944fd17d7/raw/3d35de839da708595a444187e9f13237b51a2cbe/pima-indians-diabetes.csv'\n",
    "columns_name = ['pregnancies', 'glucose', 'diastolic', 'triceps', 'insulin', 'bmi', 'dpf', 'age', 'diabetes']\n",
    "df = pd.read_csv(url, header = 0, names = columns_name )\n",
    "df.loc[:,['triceps', 'insulin']] = df.loc[:,['triceps', 'insulin']].astype('float64')\n",
    "\n",
    "# Set X (data) and y (target)\n",
    "X = df.drop ('diabetes', axis = 1)\n",
    "y = df['diabetes']"
   ]
  },
  {
   "cell_type": "code",
   "execution_count": 4,
   "metadata": {},
   "outputs": [
    {
     "name": "stdout",
     "output_type": "stream",
     "text": [
      "[[176  30]\n",
      " [ 56  46]]\n",
      "             precision    recall  f1-score   support\n",
      "\n",
      "          0       0.76      0.85      0.80       206\n",
      "          1       0.61      0.45      0.52       102\n",
      "\n",
      "avg / total       0.71      0.72      0.71       308\n",
      "\n"
     ]
    }
   ],
   "source": [
    "# Create training and test set\n",
    "X_train, X_test, y_train, y_test = train_test_split(X, y, test_size = 0.4, random_state = 42)\n",
    "\n",
    "# Instantiate a k-NN classifier: knn with k = 6\n",
    "knn = KNeighborsClassifier(n_neighbors = 6)\n",
    "\n",
    "#  Fit with train\n",
    "knn.fit(X_train, y_train)\n",
    "\n",
    "# Predict with test\n",
    "y_pred = knn.predict(X_test)\n",
    "\n",
    "# Generate the confution matrix and classification report, notice the argment order\n",
    "print (confusion_matrix(y_test, y_pred))\n",
    "print (classification_report(y_test, y_pred))"
   ]
  },
  {
   "cell_type": "code",
   "execution_count": 5,
   "metadata": {},
   "outputs": [],
   "source": [
    "#-----------------------------------------splitting from above---------------------------------------#\n",
    "#----------------------------------------------------------------------------------------------------#\n",
    "#-----------------------------------------Logistic regression----------------------------------------#"
   ]
  },
  {
   "cell_type": "code",
   "execution_count": 6,
   "metadata": {},
   "outputs": [],
   "source": [
    "# Logistic regression is for classification problem, not regression problem\n",
    "# ROC curve (false positive rate and true positive rate)\n",
    "# import\n",
    "from sklearn.linear_model import LogisticRegression\n",
    "from sklearn.metrics import confusion_matrix, classification_report"
   ]
  },
  {
   "cell_type": "code",
   "execution_count": 7,
   "metadata": {},
   "outputs": [
    {
     "name": "stdout",
     "output_type": "stream",
     "text": [
      "[[174  32]\n",
      " [ 36  66]]\n",
      "             precision    recall  f1-score   support\n",
      "\n",
      "          0       0.83      0.84      0.84       206\n",
      "          1       0.67      0.65      0.66       102\n",
      "\n",
      "avg / total       0.78      0.78      0.78       308\n",
      "\n"
     ]
    }
   ],
   "source": [
    "# Create training and test sets\n",
    "X_train, X_test, y_train, y_test = train_test_split(X, y, test_size = 0.4, random_state=42)\n",
    "\n",
    "# Create the classifier (instantiate)\n",
    "logreg = LogisticRegression()\n",
    "\n",
    "# fit\n",
    "logreg.fit(X_train, y_train)\n",
    "\n",
    "# Predict\n",
    "y_pred = logreg.predict(X_test)\n",
    "\n",
    "# Compute and print the confusion matrix and classification report\n",
    "print(confusion_matrix(y_test, y_pred))\n",
    "print(classification_report(y_test, y_pred))\n",
    "\n",
    "\n",
    "# Looks better than k_nn"
   ]
  },
  {
   "cell_type": "code",
   "execution_count": 8,
   "metadata": {},
   "outputs": [
    {
     "data": {
      "image/png": "[encoded data removed]",
      "text/plain": [
       "<Figure size 432x288 with 1 Axes>"
      ]
     },
     "metadata": {},
     "output_type": "display_data"
    }
   ],
   "source": [
    "# Plotting an ROC curve\n",
    "# ROC curve describes how fpr and tpr change with threshold change\n",
    "# import\n",
    "from sklearn.metrics import roc_curve\n",
    "\n",
    "# Compute predicted probabilities: y_pred_prob, 这个是把 概率 返回出来，而最终结果（0,1）是根据这个概率来判断的，比如大于0.5 就是0 (False)，小于0.5 就是1(True)， 取决于 threshold\n",
    "# y_pred_prob 有两列，第一列是判断 为0的概率，第二列是判断为1的概率，同一行上两列加起来应该等于1, 这里只取第二列\n",
    "y_pred_prob = logreg.predict_proba(X_test)[:,1] \n",
    "\n",
    "# Generate ROC curve values: fpr, tpr, thresholds\n",
    "fpr, tpr, thresholds = roc_curve (y_test, y_pred_prob)\n",
    "# 随着 threshold 值的降低（1 to 0）， fpr 和 tpr 的值都会趋近于1 \n",
    "# tpr = recall (or sensitivity) = tp/(tp + fn)\n",
    "# fpr = fp / (fp + tn)\n",
    "# threshold = 0 时， model predicts '1' (true) for all the data, 因为阈值太低，所有预测数据都是positive, 所以在预测值里没有 negative, 所以 fn 和 tn 都为 0\n",
    "# threshold = 1 时， model predicts '0' (false) for all the data， 因为阈值太高，所有预测数据都是negative， tp 和 fp 都为0\n",
    "\n",
    "# Plot ROC curve\n",
    "plt.plot([0, 1], [0, 1], 'k--')\n",
    "plt.plot(fpr, tpr)\n",
    "plt.xlabel('False Positive Rate')\n",
    "plt.ylabel('True Positive Rate')\n",
    "plt.title('ROC Curve')\n",
    "plt.show()\n",
    "\n",
    "# 理论上最好的点是在 (0,1) 如果能达到这一点，就是 perfect classification\n",
    "# 这个曲线可以用来评价这个模型，AUC (area under the curver) 最好能达到1，最不好就是0.5(图中虚线)，此时啥也预测不了\n",
    "# 从这张图来看，模型表现不是太好"
   ]
  },
  {
   "cell_type": "code",
   "execution_count": 9,
   "metadata": {},
   "outputs": [
    {
     "name": "stdout",
     "output_type": "stream",
     "text": [
      "AUC: 0.8268608414239483\n",
      "AUC scores computed using 5-fold cross-validation: [0.7987037  0.80777778 0.81944444 0.86622642 0.85018868]\n"
     ]
    }
   ],
   "source": [
    "# AUC computation\n",
    "# The larger AUC, the better the model\n",
    "# import\n",
    "from sklearn.metrics import roc_auc_score\n",
    "from sklearn.model_selection import cross_val_score\n",
    "# Compute and print AUC score, using previous values\n",
    "print(\"AUC: {}\".format(roc_auc_score(y_test, y_pred_prob)))\n",
    "\n",
    "# Compute cross-validated AUC scores:\n",
    "cv_auc = cross_val_score (logreg, X, y, cv = 5, scoring = 'roc_auc')\n",
    "\n",
    "print(\"AUC scores computed using 5-fold cross-validation: {}\".format(cv_auc))\n"
   ]
  },
  {
   "cell_type": "code",
   "execution_count": null,
   "metadata": {},
   "outputs": [],
   "source": [
    "# Hypterparameter tuning"
   ]
  },
  {
   "cell_type": "code",
   "execution_count": null,
   "metadata": {},
   "outputs": [],
   "source": []
  },
  {
   "cell_type": "code",
   "execution_count": null,
   "metadata": {},
   "outputs": [],
   "source": []
  }
 ],
 "metadata": {
  "kernelspec": {
   "display_name": "Python 3",
   "language": "python",
   "name": "python3"
  },
  "language_info": {
   "codemirror_mode": {
    "name": "ipython",
    "version": 3
   },
   "file_extension": ".py",
   "mimetype": "text/x-python",
   "name": "python",
   "nbconvert_exporter": "python",
   "pygments_lexer": "ipython3",
   "version": "3.6.5"
  }
 },
 "nbformat": 4,
 "nbformat_minor": 2
}
